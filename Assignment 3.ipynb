{
 "cells": [
  {
   "cell_type": "markdown",
   "metadata": {},
   "source": [
    "# Assignment 3"
   ]
  },
  {
   "cell_type": "markdown",
   "metadata": {},
   "source": [
    "### Write a function to count the number 4 in a given list."
   ]
  },
  {
   "cell_type": "code",
   "execution_count": 1,
   "metadata": {},
   "outputs": [
    {
     "data": {
      "text/plain": [
       "4"
      ]
     },
     "execution_count": 1,
     "metadata": {},
     "output_type": "execute_result"
    }
   ],
   "source": [
    "def count(lis):\n",
    "    counter=0\n",
    "    for x in range(len(lis)):\n",
    "        if lis[x]==4:\n",
    "            counter+=1\n",
    "    return counter\n",
    "lis=[1,4,4,6,4,8,4,41,5]  \n",
    "count(lis)"
   ]
  },
  {
   "cell_type": "markdown",
   "metadata": {},
   "source": [
    "### write a  function to check whether a number is divisible by another number."
   ]
  },
  {
   "cell_type": "code",
   "execution_count": null,
   "metadata": {},
   "outputs": [],
   "source": [
    "def devis(first,last):\n",
    "    if first%last==0:\n",
    "        return 'true'\n",
    "    else :\n",
    "        return 'false'\n",
    "first=int(input('please enter the first num\\n'))\n",
    "last=int(input('please enter the last num\\n'))\n",
    "result=devis(first,last)\n",
    "result"
   ]
  },
  {
   "cell_type": "markdown",
   "metadata": {},
   "source": [
    "### write a function to find the maximum and minimum numbers from a sequence of numbers."
   ]
  },
  {
   "cell_type": "code",
   "execution_count": null,
   "metadata": {},
   "outputs": [],
   "source": [
    "def max_min(list1):\n",
    "    print('the maximum ',max(list1))\n",
    "    print('the minmum ',min(list1))\n",
    "\n",
    "list1=[]\n",
    "list1.append(input('enter').split(' '))\n",
    "list1=list1[0]\n",
    "list1=[int(x) for x in list1]\n",
    "max_min(list1)"
   ]
  },
  {
   "cell_type": "markdown",
   "metadata": {},
   "source": [
    "### Write a Python function that takes two lists and returns True if they have at least one common member."
   ]
  },
  {
   "cell_type": "code",
   "execution_count": null,
   "metadata": {},
   "outputs": [],
   "source": [
    "def compare(lis1,lis2):\n",
    "    for x in range (0,len (lis1)):\n",
    "        for y in range(0,len(lis2)):\n",
    "            if lis1[x]==lis2[y]:\n",
    "                return 'true'\n",
    "lis1=[1,2,3,4]\n",
    "lis2=[6,2,99,1]\n",
    "compare(lis1,lis2)"
   ]
  },
  {
   "cell_type": "markdown",
   "metadata": {},
   "source": [
    "### Write a Python function to calculate the factorial of a number (a non-negative integer). The function accepts the number from the user"
   ]
  },
  {
   "cell_type": "code",
   "execution_count": null,
   "metadata": {},
   "outputs": [],
   "source": [
    "def factorial(x):\n",
    "    \n",
    "    if x==0:\n",
    "        return 1\n",
    "    else:\n",
    "        return x*factorial(x-1)\n",
    "c=0\n",
    "while c==0:\n",
    "    x=int(input('please enter a non negtive num\\n'))\n",
    "    if x<0:\n",
    "        continue    \n",
    "    else:\n",
    "        result=factorial(x)\n",
    "        c=1\n",
    "print('the factorial of ',x,'is ',result)"
   ]
  },
  {
   "cell_type": "markdown",
   "metadata": {},
   "source": [
    "### Write a Python function to check whether a number is in a given range.\n",
    "\n",
    "### The range is from 3 to 11\n"
   ]
  },
  {
   "cell_type": "code",
   "execution_count": null,
   "metadata": {},
   "outputs": [],
   "source": [
    "def check(x,y,z):\n",
    "    return x in range(y,z)\n",
    "x=int(input('enter the num\\n'))\n",
    "y=int(input('enter the first num of the range\\n'))\n",
    "z=int(input('enter the second num of the range\\n'))\n",
    "check(x,y,z)\n"
   ]
  },
  {
   "cell_type": "markdown",
   "metadata": {},
   "source": [
    "### Write a  program to create the multiplication table (from 1 to 10) of a number."
   ]
  },
  {
   "cell_type": "code",
   "execution_count": null,
   "metadata": {},
   "outputs": [],
   "source": [
    "def table(x):\n",
    "    for y in range (1,11):\n",
    "        print(x,'*',y,'=',x*y)\n",
    "x=int(input('enter the num\\n'))\n",
    "table(x)"
   ]
  },
  {
   "cell_type": "markdown",
   "metadata": {},
   "source": [
    "#### LESSER OF TWO EVENS: Write a function that returns the lesser of two given numbers *if* both numbers are even, but returns the greater if one or both numbers are odd\n",
    "    lesser_of_two_evens(2,4) --> 2\n",
    "    lesser_of_two_evens(2,5) --> 5"
   ]
  },
  {
   "cell_type": "code",
   "execution_count": null,
   "metadata": {},
   "outputs": [],
   "source": [
    "def check(num1,num2):\n",
    "    if num1%2==0 and num2%2==0:\n",
    "        print('both of them are even')\n",
    "        return min(num1,num2)\n",
    "    else:\n",
    "        print('one or both of them are odd')\n",
    "        return max(num1,num2)\n",
    "num1=int(input('enter the first num\\n'))\n",
    "num2=int(input('enter the second num\\n'))\n",
    "check(num1,num2)"
   ]
  },
  {
   "cell_type": "code",
   "execution_count": null,
   "metadata": {},
   "outputs": [],
   "source": []
  }
 ],
 "metadata": {
  "kernelspec": {
   "display_name": "Python 3 (ipykernel)",
   "language": "python",
   "name": "python3"
  },
  "language_info": {
   "codemirror_mode": {
    "name": "ipython",
    "version": 3
   },
   "file_extension": ".py",
   "mimetype": "text/x-python",
   "name": "python",
   "nbconvert_exporter": "python",
   "pygments_lexer": "ipython3",
   "version": "3.9.12"
  }
 },
 "nbformat": 4,
 "nbformat_minor": 2
}
